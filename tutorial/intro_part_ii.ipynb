{
 "cells": [
  {
   "cell_type": "code",
   "execution_count": 1,
   "metadata": {},
   "outputs": [],
   "source": [
    "import matplotlib.pyplot as plt\n",
    "import numpy as np\n",
    "import torch\n",
    "\n",
    "import pyro\n",
    "import pyro.infer\n",
    "import pyro.optim\n",
    "import pyro.distributions as dist\n",
    "\n",
    "pyro.set_rng_seed(101)"
   ]
  },
  {
   "cell_type": "code",
   "execution_count": 2,
   "metadata": {},
   "outputs": [],
   "source": [
    "def scale(guess):\n",
    "    weight = pyro.sample(\"weight\", dist.Normal(guess, 1.0))\n",
    "    return pyro.sample(\"measurement\", dist.Normal(weight, 0.75))"
   ]
  },
  {
   "cell_type": "markdown",
   "metadata": {},
   "source": [
    "# 条件付け\n",
    "\n",
    "* 確率的プログラミングの真の力は、生成モデルを観測値で条件付け、そのデータを生成しうる潜在変数の推論するという能力にある\n",
    "* Pyro の API には、生成モデルの定義と条件付けを分離させることで、何回でもデータに対して条件付ける操作を行えるような工夫が施されている\n",
    "\n",
    "`scale` をもう一度考える\n",
    "\n",
    "* `guess = 8.5` に対する `weight` の分布は、`measurement == 9.5` が観測されていた場合どうなるだろうか？\n",
    "* つまり次の分布を推論したい\n",
    "\n",
    "$$\n",
    "P(weight|guess, measurement=9.5)\n",
    "$$\n",
    "\n",
    "* Pyro では `pyro.condition` を使ってデータの条件付けを行う\n",
    "* `pyro.condition` は高階関数\n",
    "    * モデルと観測値を入力する\n",
    "    * 出力はモデルと一緒の外見だが、データで条件付けられたモデル"
   ]
  },
  {
   "cell_type": "code",
   "execution_count": 4,
   "metadata": {},
   "outputs": [],
   "source": [
    "conditioned_scale = pyro.condition(scale, data={'measurement': 9.5})"
   ]
  },
  {
   "cell_type": "markdown",
   "metadata": {},
   "source": [
    "任意の Python の関数のように振る舞うので、`lambda` や `def` のように遅延させることも出来ます。"
   ]
  },
  {
   "cell_type": "code",
   "execution_count": 5,
   "metadata": {},
   "outputs": [],
   "source": [
    "def deffered_conditioned_scale(measurement, *args, **kwargs):\n",
    "    return pyro.condition(scale, data={'measurement': measurement})(*args, **kwargs)"
   ]
  },
  {
   "cell_type": "markdown",
   "metadata": {},
   "source": [
    "条件付けをモデル定義に盛り込むこともできる\n",
    "\n",
    "* `pyro.sample` のキーワード引数として `obs` を追加すれば良い\n",
    "* この操作は後で `pyro.condition` するのと等価"
   ]
  },
  {
   "cell_type": "code",
   "execution_count": 6,
   "metadata": {},
   "outputs": [],
   "source": [
    "def scale_obs(guess):\n",
    "    # conditioned_scale と等価\n",
    "    weight = pyro.sample(\"weight\", dist.Normal(guess, 1.))\n",
    "    return pyro.sample(\"measurement\", dist.Normal(weight, 1.), obs=9.5)"
   ]
  },
  {
   "cell_type": "markdown",
   "metadata": {},
   "source": [
    "観測値をモデルに組み込む違う方法として、`pyro.do` というものがある。\n",
    "- これは、Pearl の do-operator の実装であり、因果モデルの観測値に対応する。\n",
    "- `pyro.do` と `pyro.condition` は自由にミックスさせて使うことが出来る。"
   ]
  },
  {
   "cell_type": "code",
   "execution_count": null,
   "metadata": {},
   "outputs": [],
   "source": []
  }
 ],
 "metadata": {
  "kernelspec": {
   "display_name": "ml_kernel",
   "language": "python",
   "name": "ml_kernel"
  },
  "language_info": {
   "codemirror_mode": {
    "name": "ipython",
    "version": 3
   },
   "file_extension": ".py",
   "mimetype": "text/x-python",
   "name": "python",
   "nbconvert_exporter": "python",
   "pygments_lexer": "ipython3",
   "version": "3.6.8"
  }
 },
 "nbformat": 4,
 "nbformat_minor": 2
}
